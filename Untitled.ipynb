{
 "cells": [
  {
   "cell_type": "markdown",
   "id": "bbdf6cb5-4d77-4139-b77b-0bbebb583940",
   "metadata": {},
   "source": [
    "# Old Faithful is a eruption\n",
    "Old Faithful is a cone geyser located in Yellowstone National Park in Wyonming, United States.\n",
    "Since 200 its intervals have varied from 44 to 125 minutes between eruptions. Currently it is bimodal. It has two eruption durations, either long(over 4 minutes) or more rarely short(about 2-1/2 minutes)\n",
    "Short eruptions lead to an interval of just over an hour and long eruptions lead to an interval of about 1-1/2 hours."
   ]
  },
  {
   "cell_type": "code",
   "execution_count": 6,
   "id": "ea37c54c-9bbb-4552-8d07-0bb049d6bcca",
   "metadata": {},
   "outputs": [],
   "source": [
    "#loading all the necessary libraries\n",
    "import plotly.express as px\n",
    "from jupyter_dash import JupyterDash\n",
    "import dash_core_components as dcc\n",
    "import dash_html_components as html\n",
    "from dash.dependencies import Input, Output\n",
    "import plotly.graph_objs as go\n",
    "import pandas as pd"
   ]
  },
  {
   "cell_type": "code",
   "execution_count": 7,
   "id": "2b5e5e71-5095-4b2f-9544-198fbed4f8c9",
   "metadata": {},
   "outputs": [],
   "source": [
    "df = pd.read_csv('OldFaithful.csv')"
   ]
  },
  {
   "cell_type": "code",
   "execution_count": 8,
   "id": "bf7f9c02-74d4-4564-850e-1347272555b1",
   "metadata": {},
   "outputs": [
    {
     "data": {
      "text/html": [
       "<div>\n",
       "<style scoped>\n",
       "    .dataframe tbody tr th:only-of-type {\n",
       "        vertical-align: middle;\n",
       "    }\n",
       "\n",
       "    .dataframe tbody tr th {\n",
       "        vertical-align: top;\n",
       "    }\n",
       "\n",
       "    .dataframe thead th {\n",
       "        text-align: right;\n",
       "    }\n",
       "</style>\n",
       "<table border=\"1\" class=\"dataframe\">\n",
       "  <thead>\n",
       "    <tr style=\"text-align: right;\">\n",
       "      <th></th>\n",
       "      <th>D</th>\n",
       "      <th>Y</th>\n",
       "      <th>X</th>\n",
       "    </tr>\n",
       "  </thead>\n",
       "  <tbody>\n",
       "    <tr>\n",
       "      <th>0</th>\n",
       "      <td>1</td>\n",
       "      <td>78</td>\n",
       "      <td>4.4</td>\n",
       "    </tr>\n",
       "    <tr>\n",
       "      <th>1</th>\n",
       "      <td>1</td>\n",
       "      <td>74</td>\n",
       "      <td>3.9</td>\n",
       "    </tr>\n",
       "    <tr>\n",
       "      <th>2</th>\n",
       "      <td>1</td>\n",
       "      <td>68</td>\n",
       "      <td>4.0</td>\n",
       "    </tr>\n",
       "    <tr>\n",
       "      <th>3</th>\n",
       "      <td>1</td>\n",
       "      <td>76</td>\n",
       "      <td>4.0</td>\n",
       "    </tr>\n",
       "    <tr>\n",
       "      <th>4</th>\n",
       "      <td>1</td>\n",
       "      <td>80</td>\n",
       "      <td>3.5</td>\n",
       "    </tr>\n",
       "  </tbody>\n",
       "</table>\n",
       "</div>"
      ],
      "text/plain": [
       "   D   Y    X\n",
       "0  1  78  4.4\n",
       "1  1  74  3.9\n",
       "2  1  68  4.0\n",
       "3  1  76  4.0\n",
       "4  1  80  3.5"
      ]
     },
     "execution_count": 8,
     "metadata": {},
     "output_type": "execute_result"
    }
   ],
   "source": [
    "df.head()"
   ]
  },
  {
   "cell_type": "code",
   "execution_count": 13,
   "id": "713b5781-381b-459e-9d62-0e9b4aeaaf49",
   "metadata": {},
   "outputs": [
    {
     "data": {
      "text/html": [
       "\n",
       "        <iframe\n",
       "            width=\"100%\"\n",
       "            height=\"650\"\n",
       "            src=\"http://127.0.0.1:8050/\"\n",
       "            frameborder=\"0\"\n",
       "            allowfullscreen\n",
       "            \n",
       "        ></iframe>\n",
       "        "
      ],
      "text/plain": [
       "<IPython.lib.display.IFrame at 0x7fb1d4abf100>"
      ]
     },
     "metadata": {},
     "output_type": "display_data"
    }
   ],
   "source": [
    "app = JupyterDash(__name__)\n",
    "app.layout = html.Div([dcc.Graph(id='old_faithful',\n",
    "                                 figure={'data':[go.Scatter(x=df['X'],\n",
    "                                                            y=df['Y'],\n",
    "                                                            mode='markers')],                                         \n",
    "                                         'layout':go.Layout(\n",
    "                                             title='Old Faithful Eruptions',\n",
    "                                             xaxis={'title':'Duration'},\n",
    "                                             yaxis={'title':'Interval'})})])\n",
    "if __name__ == '__main__':\n",
    "    app.run_server(mode='inline')"
   ]
  },
  {
   "cell_type": "code",
   "execution_count": null,
   "id": "950a88e6-188a-4367-bfe4-b211ca31d80d",
   "metadata": {},
   "outputs": [],
   "source": []
  }
 ],
 "metadata": {
  "kernelspec": {
   "display_name": "Python 3 (ipykernel)",
   "language": "python",
   "name": "python3"
  },
  "language_info": {
   "codemirror_mode": {
    "name": "ipython",
    "version": 3
   },
   "file_extension": ".py",
   "mimetype": "text/x-python",
   "name": "python",
   "nbconvert_exporter": "python",
   "pygments_lexer": "ipython3",
   "version": "3.9.7"
  }
 },
 "nbformat": 4,
 "nbformat_minor": 5
}
